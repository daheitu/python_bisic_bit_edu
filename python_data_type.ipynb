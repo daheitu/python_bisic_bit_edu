{
 "cells": [
  {
   "cell_type": "code",
   "execution_count": 1,
   "metadata": {},
   "outputs": [
    {
     "data": {
      "text/plain": [
       "32768"
      ]
     },
     "execution_count": 1,
     "metadata": {},
     "output_type": "execute_result"
    }
   ],
   "source": [
    "pow(2,15) #乘方运算 #整型没有取值范围限制"
   ]
  },
  {
   "cell_type": "code",
   "execution_count": 4,
   "metadata": {},
   "outputs": [
    {
     "data": {
      "text/plain": [
       "0.30000000000000004"
      ]
     },
     "execution_count": 4,
     "metadata": {},
     "output_type": "execute_result"
    }
   ],
   "source": [
    "0.1+0.2  #float 运算的不确定尾数 原因是计算机中的小数是以53位的二进制小数来表示 十进制与2进制小数没有严格对等关系"
   ]
  },
  {
   "cell_type": "code",
   "execution_count": 7,
   "metadata": {},
   "outputs": [
    {
     "data": {
      "text/plain": [
       "False"
      ]
     },
     "execution_count": 7,
     "metadata": {},
     "output_type": "execute_result"
    }
   ],
   "source": [
    "0.1+0.2==0.3"
   ]
  },
  {
   "cell_type": "code",
   "execution_count": 9,
   "metadata": {},
   "outputs": [
    {
     "data": {
      "text/plain": [
       "True"
      ]
     },
     "execution_count": 9,
     "metadata": {},
     "output_type": "execute_result"
    }
   ],
   "source": [
    "round(0.1+0.2, 2) == 0.3 #round(x,d)对x进行d位四舍五入的函数"
   ]
  },
  {
   "cell_type": "code",
   "execution_count": 16,
   "metadata": {},
   "outputs": [
    {
     "name": "stdout",
     "output_type": "stream",
     "text": [
      "3.1e-05\n"
     ]
    }
   ],
   "source": [
    "print(3.1e-5) #aeb表示a*（10的b次幂)"
   ]
  },
  {
   "cell_type": "code",
   "execution_count": 19,
   "metadata": {},
   "outputs": [
    {
     "name": "stdout",
     "output_type": "stream",
     "text": [
      "1.0\n",
      "3.0\n"
     ]
    }
   ],
   "source": [
    "z = 1+3j\n",
    "print(z.real) #求实部\n",
    "print(z.imag) #求虚部"
   ]
  },
  {
   "cell_type": "code",
   "execution_count": 22,
   "metadata": {},
   "outputs": [
    {
     "name": "stdout",
     "output_type": "stream",
     "text": [
      "3\n",
      "3.3333333333333335\n",
      "1\n"
     ]
    }
   ],
   "source": [
    "print(10 // 3) #整除\n",
    "print(10/3)\n",
    "print(10%3) #余数"
   ]
  },
  {
   "cell_type": "code",
   "execution_count": 23,
   "metadata": {},
   "outputs": [
    {
     "data": {
      "text/plain": [
       "(3, 1)"
      ]
     },
     "execution_count": 23,
     "metadata": {},
     "output_type": "execute_result"
    }
   ],
   "source": [
    "divmod(10,3) #进行整除和求余操作"
   ]
  },
  {
   "cell_type": "code",
   "execution_count": 24,
   "metadata": {},
   "outputs": [
    {
     "data": {
      "text/plain": [
       "81"
      ]
     },
     "execution_count": 24,
     "metadata": {},
     "output_type": "execute_result"
    }
   ],
   "source": [
    "pow(3,24,100) #幂余操作 表示3的24次方除以100的余数"
   ]
  },
  {
   "cell_type": "code",
   "execution_count": 26,
   "metadata": {},
   "outputs": [
    {
     "data": {
      "text/plain": [
       "11"
      ]
     },
     "execution_count": 26,
     "metadata": {},
     "output_type": "execute_result"
    }
   ],
   "source": [
    "int(float(\"11.2\"))"
   ]
  },
  {
   "cell_type": "code",
   "execution_count": 28,
   "metadata": {},
   "outputs": [
    {
     "name": "stdout",
     "output_type": "stream",
     "text": [
      "1.4402513134295205\n",
      "0.6940698870404745\n"
     ]
    }
   ],
   "source": [
    "print(1.001**365)\n",
    "print(0.999**365)"
   ]
  },
  {
   "cell_type": "code",
   "execution_count": 29,
   "metadata": {},
   "outputs": [
    {
     "data": {
      "text/plain": [
       "'我'"
      ]
     },
     "execution_count": 29,
     "metadata": {},
     "output_type": "execute_result"
    }
   ],
   "source": [
    "\"我在\"[0]"
   ]
  },
  {
   "cell_type": "code",
   "execution_count": 31,
   "metadata": {},
   "outputs": [
    {
     "name": "stdout",
     "output_type": "stream",
     "text": [
      "0xd5\n",
      "0o325\n"
     ]
    }
   ],
   "source": [
    "print(hex(213)) #十六进制的字符串表示\n",
    "print(oct(213)) #八进制的字符串表示"
   ]
  },
  {
   "cell_type": "code",
   "execution_count": 36,
   "metadata": {},
   "outputs": [
    {
     "data": {
      "text/plain": [
       "53"
      ]
     },
     "execution_count": 36,
     "metadata": {},
     "output_type": "execute_result"
    }
   ],
   "source": [
    "chr(212) #将unicode编码对应到字符\n",
    "ord(\"5\") #将字符对应到Unicode编码"
   ]
  },
  {
   "cell_type": "code",
   "execution_count": 40,
   "metadata": {},
   "outputs": [
    {
     "name": "stdout",
     "output_type": "stream",
     "text": [
      "♈ ♉ ♊ ♋ ♌ ♍ ♎ ♏ ♐ ♑ ♒ ♓ "
     ]
    }
   ],
   "source": [
    "for i in range(12):  #打印十二星座的对应字符通过unicode 码与之对应\n",
    "    print(chr(9800+i), end=\" \") #end参数控制打印字符的间隔，如果为空，默认为“\\n”"
   ]
  },
  {
   "cell_type": "code",
   "execution_count": 60,
   "metadata": {},
   "outputs": [
    {
     "name": "stdout",
     "output_type": "stream",
     "text": [
      "I am no thing............\n",
      "1,203.05\n",
      "110101001 Ʃ 425 1a9 1A9\n"
     ]
    }
   ],
   "source": [
    "#字符串输出格式化\n",
    "print(\"I am {:.<20}\".format(\"no thing\")) #槽占位符{index:（输出格式）填充格式长度:精度} <靠左对齐，^居中对齐 >靠右对齐 默认填充左对齐空格空格填充\n",
    "print(\"{:,.2f}\".format(1203.0457)) #,表示千位分隔符，.2表示小数的精度，f表示字符类型 浮点数\n",
    "print(\"{0:b} {0:c} {0:d} {0:x} {0:X}\".format(425)) #b二进制数 c表示unicode对应的字符 d表示10进制数，x表示16进制 整数型 eE表示科学计算法，f浮点型"
   ]
  },
  {
   "cell_type": "code",
   "execution_count": 6,
   "metadata": {},
   "outputs": [
    {
     "name": "stdout",
     "output_type": "stream",
     "text": [
      "1586918561.3903208\n",
      "Wed Apr 15 10:42:41 2020\n",
      "time.struct_time(tm_year=2020, tm_mon=4, tm_mday=15, tm_hour=2, tm_min=42, tm_sec=41, tm_wday=2, tm_yday=106, tm_isdst=0)\n",
      "2020-04-15 \n"
     ]
    }
   ],
   "source": [
    "#time库的使用\n",
    "import time\n",
    "print(time.time()) #现在距离1970年的1月1日0点的时间差的秒的表达形式\n",
    "print(time.ctime()) #系统时间,字符串形式返回\n",
    "print(time.gmtime()) #结构化的时间\n",
    "print(time.strftime(\"%Y-%m-%d \", time.gmtime()))"
   ]
  },
  {
   "cell_type": "code",
   "execution_count": 10,
   "metadata": {},
   "outputs": [
    {
     "name": "stdout",
     "output_type": "stream",
     "text": [
      "3.1418806314468384\n"
     ]
    }
   ],
   "source": [
    "from random import random\n",
    "#from time import perf_conter\n",
    "n = pow(2,26)\n",
    "hit = 0\n",
    "for i in range(n):\n",
    "    x,y =random(),random()\n",
    "    if pow(x,2) + pow(y,2) <= 1:\n",
    "        hit +=1\n",
    "pi = hit/n * 4\n",
    "print(pi)\n"
   ]
  },
  {
   "cell_type": "code",
   "execution_count": 1,
   "metadata": {},
   "outputs": [],
   "source": [
    "import turtle\n",
    "turtle.setup(800,400, 0,0)\n",
    "turtle.goto(100,100)\n",
    "turtle.goto(100,-100)\n",
    "turtle.goto(-100,-100)\n",
    "turtle.goto(-100,100)\n",
    "turtle.goto(0,0)"
   ]
  },
  {
   "cell_type": "code",
   "execution_count": null,
   "metadata": {},
   "outputs": [],
   "source": []
  }
 ],
 "metadata": {
  "kernelspec": {
   "display_name": "Python 3",
   "language": "python",
   "name": "python3"
  },
  "language_info": {
   "codemirror_mode": {
    "name": "ipython",
    "version": 3
   },
   "file_extension": ".py",
   "mimetype": "text/x-python",
   "name": "python",
   "nbconvert_exporter": "python",
   "pygments_lexer": "ipython3",
   "version": "3.7.3"
  }
 },
 "nbformat": 4,
 "nbformat_minor": 2
}
